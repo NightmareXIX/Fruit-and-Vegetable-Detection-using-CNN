{
  "nbformat": 4,
  "nbformat_minor": 0,
  "metadata": {
    "colab": {
      "provenance": [],
      "authorship_tag": "ABX9TyNLalDSvFPsOusbzzb94HB7",
      "include_colab_link": true
    },
    "kernelspec": {
      "name": "python3",
      "display_name": "Python 3"
    },
    "language_info": {
      "name": "python"
    }
  },
  "cells": [
    {
      "cell_type": "markdown",
      "metadata": {
        "id": "view-in-github",
        "colab_type": "text"
      },
      "source": [
        "<a href=\"https://colab.research.google.com/github/NightmareXIX/Fruit-and-Vegetable-Detection-using-CNN/blob/main/Training_fruit_vegetable.ipynb\" target=\"_parent\"><img src=\"https://colab.research.google.com/assets/colab-badge.svg\" alt=\"Open In Colab\"/></a>"
      ]
    },
    {
      "cell_type": "markdown",
      "source": [
        "#Importing Dataset"
      ],
      "metadata": {
        "id": "DrtC2_O7cHiG"
      }
    },
    {
      "cell_type": "code",
      "execution_count": null,
      "metadata": {
        "id": "87EXTmyPb3H7"
      },
      "outputs": [],
      "source": []
    },
    {
      "cell_type": "code",
      "source": [
        "from google.colab import drive\n",
        "drive.mount('/content/drive')"
      ],
      "metadata": {
        "colab": {
          "base_uri": "https://localhost:8080/"
        },
        "id": "DCVFiHc9f8r4",
        "outputId": "9b06e472-8600-4f62-a124-88248e30d5ad"
      },
      "execution_count": null,
      "outputs": [
        {
          "output_type": "stream",
          "name": "stdout",
          "text": [
            "Mounted at /content/drive\n"
          ]
        }
      ]
    },
    {
      "cell_type": "markdown",
      "source": [
        "#Importing libraries"
      ],
      "metadata": {
        "id": "IWWwLDUhHmoK"
      }
    },
    {
      "cell_type": "code",
      "source": [
        "import numpy as np\n",
        "import tensorflow as tf\n",
        "import matplotlib.pyplot as plt"
      ],
      "metadata": {
        "id": "ZWXh4NLmHrh_"
      },
      "execution_count": null,
      "outputs": []
    },
    {
      "cell_type": "markdown",
      "source": [
        "#Data Preprocessing"
      ],
      "metadata": {
        "id": "Gk8Rkkl7ICIA"
      }
    },
    {
      "cell_type": "markdown",
      "source": [
        "##Training image preprocessing"
      ],
      "metadata": {
        "id": "0akziyYKJS5H"
      }
    },
    {
      "cell_type": "code",
      "source": [
        "training_set = tf.keras.utils.image_dataset_from_directory(\n",
        "    '/content/drive/MyDrive/FruitVegDataset/train',\n",
        "    labels=\"inferred\",\n",
        "    label_mode=\"categorical\",\n",
        "    class_names=None,\n",
        "    color_mode=\"rgb\",\n",
        "    batch_size=32,\n",
        "    image_size=(64, 64),\n",
        "    shuffle=True,\n",
        "    seed=None,\n",
        "    validation_split=None,\n",
        "    subset=None,\n",
        "    interpolation=\"bilinear\",\n",
        "    follow_links=False,\n",
        "    crop_to_aspect_ratio=False\n",
        ")"
      ],
      "metadata": {
        "colab": {
          "base_uri": "https://localhost:8080/"
        },
        "id": "79YXatenIG__",
        "outputId": "5b353ce1-b785-42f7-d15b-c243b3a30c1f"
      },
      "execution_count": null,
      "outputs": [
        {
          "output_type": "stream",
          "name": "stdout",
          "text": [
            "Found 3115 files belonging to 36 classes.\n"
          ]
        }
      ]
    },
    {
      "cell_type": "markdown",
      "source": [
        "##Validation Image Preprocessing\n"
      ],
      "metadata": {
        "id": "zDug7v8FNSHy"
      }
    },
    {
      "cell_type": "code",
      "source": [
        "validation_set = tf.keras.utils.image_dataset_from_directory(\n",
        "    '/content/drive/MyDrive/FruitVegDataset/validation',\n",
        "    labels=\"inferred\",\n",
        "    label_mode=\"categorical\",\n",
        "    class_names=None,\n",
        "    color_mode=\"rgb\",\n",
        "    batch_size=32,\n",
        "    image_size=(64, 64),\n",
        "    shuffle=True,\n",
        "    seed=None,\n",
        "    validation_split=None,\n",
        "    subset=None,\n",
        "    interpolation=\"bilinear\",\n",
        "    follow_links=False,\n",
        "    crop_to_aspect_ratio=False\n",
        ")"
      ],
      "metadata": {
        "colab": {
          "base_uri": "https://localhost:8080/"
        },
        "id": "qenJugWkNayI",
        "outputId": "425c7ac2-c224-4bbe-e11c-3ca769ec48f7"
      },
      "execution_count": null,
      "outputs": [
        {
          "output_type": "stream",
          "name": "stdout",
          "text": [
            "Found 351 files belonging to 36 classes.\n"
          ]
        }
      ]
    },
    {
      "cell_type": "markdown",
      "source": [
        "##Building Model"
      ],
      "metadata": {
        "id": "LNWPGp4aS2mq"
      }
    },
    {
      "cell_type": "code",
      "source": [
        "cnn = tf.keras.models.Sequential()"
      ],
      "metadata": {
        "id": "42MNS_m-S54H"
      },
      "execution_count": null,
      "outputs": []
    },
    {
      "cell_type": "markdown",
      "source": [
        "##Building Convolution Layer"
      ],
      "metadata": {
        "id": "QyOT0UwTTyLZ"
      }
    },
    {
      "cell_type": "code",
      "source": [
        "cnn.add(tf.keras.layers.Conv2D(filters=64,kernel_size=3,activation='relu',input_shape=[64,64,3]))\n",
        "cnn.add(tf.keras.layers.MaxPool2D(pool_size=2,strides=2))"
      ],
      "metadata": {
        "id": "DmUyvq27TyUY"
      },
      "execution_count": null,
      "outputs": []
    },
    {
      "cell_type": "code",
      "source": [
        "cnn.add(tf.keras.layers.Conv2D(filters=64,kernel_size=3,activation='relu'))\n",
        "cnn.add(tf.keras.layers.MaxPool2D(pool_size=2,strides=2))"
      ],
      "metadata": {
        "id": "tDWLgGVfXBI4"
      },
      "execution_count": null,
      "outputs": []
    },
    {
      "cell_type": "code",
      "source": [
        "# To avoid overfitting\n",
        "cnn.add(tf.keras.layers.Dropout(0.5))"
      ],
      "metadata": {
        "id": "675Lc6XZXNKJ"
      },
      "execution_count": null,
      "outputs": []
    },
    {
      "cell_type": "code",
      "source": [
        "cnn.add(tf.keras.layers.Flatten())"
      ],
      "metadata": {
        "id": "_qSZZ4PWXoSH"
      },
      "execution_count": null,
      "outputs": []
    },
    {
      "cell_type": "code",
      "source": [
        "cnn.add(tf.keras.layers.Dense(units=128,activation='relu'))"
      ],
      "metadata": {
        "id": "9pkMCrN2X8yn"
      },
      "execution_count": null,
      "outputs": []
    },
    {
      "cell_type": "code",
      "source": [
        "# Output Layer\n",
        "cnn.add(tf.keras.layers.Dense(units=36,activation='softmax'))"
      ],
      "metadata": {
        "id": "dXx4bnUqa4zY"
      },
      "execution_count": null,
      "outputs": []
    },
    {
      "cell_type": "markdown",
      "source": [
        "#Compiling and Training Phase"
      ],
      "metadata": {
        "id": "pL-3lb_Czzrw"
      }
    },
    {
      "cell_type": "code",
      "source": [
        "cnn.compile(optimizer='rmsprop', loss='categorical_crossentropy', metrics=['accuracy'])"
      ],
      "metadata": {
        "id": "HSt3BLZEz40i"
      },
      "execution_count": null,
      "outputs": []
    },
    {
      "cell_type": "code",
      "source": [
        "training_history = cnn.fit(x=training_set,validation_data=validation_set,epochs=30)"
      ],
      "metadata": {
        "colab": {
          "base_uri": "https://localhost:8080/"
        },
        "id": "L-TgAcGF0lva",
        "outputId": "11ec5126-f4ac-4227-e49c-95f449a2dd0d"
      },
      "execution_count": null,
      "outputs": [
        {
          "output_type": "stream",
          "name": "stdout",
          "text": [
            "Epoch 1/30\n",
            "98/98 [==============================] - 498s 5s/step - loss: 9.4317 - accuracy: 0.0334 - val_loss: 3.4467 - val_accuracy: 0.0684\n",
            "Epoch 2/30\n",
            "98/98 [==============================] - 127s 1s/step - loss: 4.1841 - accuracy: 0.0514 - val_loss: 3.3675 - val_accuracy: 0.1083\n",
            "Epoch 3/30\n",
            "98/98 [==============================] - 140s 1s/step - loss: 3.5537 - accuracy: 0.0876 - val_loss: 3.1818 - val_accuracy: 0.2023\n",
            "Epoch 4/30\n",
            "98/98 [==============================] - 120s 1s/step - loss: 3.5418 - accuracy: 0.1268 - val_loss: 2.9407 - val_accuracy: 0.2593\n",
            "Epoch 5/30\n",
            "98/98 [==============================] - 120s 1s/step - loss: 3.4504 - accuracy: 0.1737 - val_loss: 2.7428 - val_accuracy: 0.3105\n",
            "Epoch 6/30\n",
            "98/98 [==============================] - 122s 1s/step - loss: 3.3549 - accuracy: 0.2289 - val_loss: 2.3921 - val_accuracy: 0.4188\n",
            "Epoch 7/30\n",
            "98/98 [==============================] - 120s 1s/step - loss: 3.2327 - accuracy: 0.2934 - val_loss: 2.5441 - val_accuracy: 0.3960\n",
            "Epoch 8/30\n",
            "98/98 [==============================] - 126s 1s/step - loss: 2.9751 - accuracy: 0.3653 - val_loss: 3.8254 - val_accuracy: 0.3305\n",
            "Epoch 9/30\n",
            "98/98 [==============================] - 119s 1s/step - loss: 2.7009 - accuracy: 0.3958 - val_loss: 1.6602 - val_accuracy: 0.6154\n",
            "Epoch 10/30\n",
            "98/98 [==============================] - 128s 1s/step - loss: 2.3968 - accuracy: 0.4404 - val_loss: 1.5074 - val_accuracy: 0.6353\n",
            "Epoch 11/30\n",
            "98/98 [==============================] - 128s 1s/step - loss: 2.5349 - accuracy: 0.4950 - val_loss: 1.5769 - val_accuracy: 0.6724\n",
            "Epoch 12/30\n",
            "98/98 [==============================] - 128s 1s/step - loss: 1.9234 - accuracy: 0.5457 - val_loss: 1.3847 - val_accuracy: 0.7550\n",
            "Epoch 13/30\n",
            "98/98 [==============================] - 121s 1s/step - loss: 1.8515 - accuracy: 0.5657 - val_loss: 1.3592 - val_accuracy: 0.7664\n",
            "Epoch 14/30\n",
            "98/98 [==============================] - 120s 1s/step - loss: 1.9039 - accuracy: 0.6042 - val_loss: 1.1561 - val_accuracy: 0.7436\n",
            "Epoch 15/30\n",
            "98/98 [==============================] - 128s 1s/step - loss: 1.7259 - accuracy: 0.6388 - val_loss: 1.3256 - val_accuracy: 0.7778\n",
            "Epoch 16/30\n",
            "98/98 [==============================] - 128s 1s/step - loss: 1.5476 - accuracy: 0.6636 - val_loss: 1.5305 - val_accuracy: 0.7493\n",
            "Epoch 17/30\n",
            "98/98 [==============================] - 128s 1s/step - loss: 1.3669 - accuracy: 0.6854 - val_loss: 1.0094 - val_accuracy: 0.8120\n",
            "Epoch 18/30\n",
            "98/98 [==============================] - 128s 1s/step - loss: 1.4049 - accuracy: 0.7104 - val_loss: 4.6106 - val_accuracy: 0.5442\n",
            "Epoch 19/30\n",
            "98/98 [==============================] - 120s 1s/step - loss: 1.3771 - accuracy: 0.7313 - val_loss: 1.0573 - val_accuracy: 0.8490\n",
            "Epoch 20/30\n",
            "98/98 [==============================] - 121s 1s/step - loss: 1.3637 - accuracy: 0.7406 - val_loss: 1.1107 - val_accuracy: 0.8519\n",
            "Epoch 21/30\n",
            "98/98 [==============================] - 119s 1s/step - loss: 1.1992 - accuracy: 0.7685 - val_loss: 1.1962 - val_accuracy: 0.8376\n",
            "Epoch 22/30\n",
            "98/98 [==============================] - 135s 1s/step - loss: 1.3318 - accuracy: 0.7682 - val_loss: 1.0459 - val_accuracy: 0.9088\n",
            "Epoch 23/30\n",
            "98/98 [==============================] - 127s 1s/step - loss: 1.0556 - accuracy: 0.7856 - val_loss: 2.1505 - val_accuracy: 0.7664\n",
            "Epoch 24/30\n",
            "98/98 [==============================] - 128s 1s/step - loss: 1.1448 - accuracy: 0.7836 - val_loss: 1.0985 - val_accuracy: 0.9031\n",
            "Epoch 25/30\n",
            "98/98 [==============================] - 121s 1s/step - loss: 1.0698 - accuracy: 0.8064 - val_loss: 1.1223 - val_accuracy: 0.8917\n",
            "Epoch 26/30\n",
            "98/98 [==============================] - 129s 1s/step - loss: 1.1286 - accuracy: 0.7987 - val_loss: 2.0597 - val_accuracy: 0.8148\n",
            "Epoch 27/30\n",
            "98/98 [==============================] - 120s 1s/step - loss: 0.9874 - accuracy: 0.8157 - val_loss: 1.0345 - val_accuracy: 0.9003\n",
            "Epoch 28/30\n",
            "98/98 [==============================] - 127s 1s/step - loss: 0.9569 - accuracy: 0.8177 - val_loss: 1.2232 - val_accuracy: 0.9345\n",
            "Epoch 29/30\n",
            "98/98 [==============================] - 127s 1s/step - loss: 0.8787 - accuracy: 0.8366 - val_loss: 1.1507 - val_accuracy: 0.9259\n",
            "Epoch 30/30\n",
            "98/98 [==============================] - 129s 1s/step - loss: 0.8445 - accuracy: 0.8517 - val_loss: 1.1067 - val_accuracy: 0.9345\n"
          ]
        }
      ]
    },
    {
      "cell_type": "markdown",
      "source": [
        "##Saving Model"
      ],
      "metadata": {
        "id": "U3jmkMJg1hqJ"
      }
    },
    {
      "cell_type": "code",
      "source": [
        "cnn.save('trained_model.h5')"
      ],
      "metadata": {
        "colab": {
          "base_uri": "https://localhost:8080/"
        },
        "id": "FhPjk-231ogq",
        "outputId": "0d322773-3e2d-43ee-f366-06d8c5cc621f"
      },
      "execution_count": null,
      "outputs": [
        {
          "output_type": "stream",
          "name": "stderr",
          "text": [
            "/usr/local/lib/python3.10/dist-packages/keras/src/engine/training.py:3103: UserWarning: You are saving your model as an HDF5 file via `model.save()`. This file format is considered legacy. We recommend using instead the native Keras format, e.g. `model.save('my_model.keras')`.\n",
            "  saving_api.save_model(\n"
          ]
        }
      ]
    },
    {
      "cell_type": "code",
      "source": [
        "# Return dictionary of training history\n",
        "training_history.history"
      ],
      "metadata": {
        "colab": {
          "base_uri": "https://localhost:8080/"
        },
        "id": "ZaaJ-nnK2hLh",
        "outputId": "24228a95-592f-4f3b-ed93-5148ae09e84d"
      },
      "execution_count": null,
      "outputs": [
        {
          "output_type": "execute_result",
          "data": {
            "text/plain": [
              "{'loss': [9.431747436523438,\n",
              "  4.184119701385498,\n",
              "  3.5537240505218506,\n",
              "  3.541832685470581,\n",
              "  3.4503533840179443,\n",
              "  3.3549325466156006,\n",
              "  3.232743501663208,\n",
              "  2.9750795364379883,\n",
              "  2.7008752822875977,\n",
              "  2.396765947341919,\n",
              "  2.5348846912384033,\n",
              "  1.9234097003936768,\n",
              "  1.8515101671218872,\n",
              "  1.9039409160614014,\n",
              "  1.7259180545806885,\n",
              "  1.5475677251815796,\n",
              "  1.366898775100708,\n",
              "  1.4048542976379395,\n",
              "  1.377078652381897,\n",
              "  1.3637436628341675,\n",
              "  1.199216365814209,\n",
              "  1.3318071365356445,\n",
              "  1.0556007623672485,\n",
              "  1.1447687149047852,\n",
              "  1.0698083639144897,\n",
              "  1.1286169290542603,\n",
              "  0.9873809218406677,\n",
              "  0.9569141268730164,\n",
              "  0.8786802291870117,\n",
              "  0.8444520831108093],\n",
              " 'accuracy': [0.03338683769106865,\n",
              "  0.051364365965127945,\n",
              "  0.08764044940471649,\n",
              "  0.12680578231811523,\n",
              "  0.1736757606267929,\n",
              "  0.2288924604654312,\n",
              "  0.2934189438819885,\n",
              "  0.3653290569782257,\n",
              "  0.39582663774490356,\n",
              "  0.44044944643974304,\n",
              "  0.49502408504486084,\n",
              "  0.545746386051178,\n",
              "  0.5656501054763794,\n",
              "  0.6041733622550964,\n",
              "  0.6388443112373352,\n",
              "  0.6635634303092957,\n",
              "  0.6853932738304138,\n",
              "  0.7104333639144897,\n",
              "  0.7313001751899719,\n",
              "  0.7406099438667297,\n",
              "  0.768539309501648,\n",
              "  0.7682182788848877,\n",
              "  0.7855537533760071,\n",
              "  0.7836276292800903,\n",
              "  0.8064205646514893,\n",
              "  0.7987158894538879,\n",
              "  0.8157303333282471,\n",
              "  0.8176565170288086,\n",
              "  0.8365970849990845,\n",
              "  0.8516854047775269],\n",
              " 'val_loss': [3.4466607570648193,\n",
              "  3.367488384246826,\n",
              "  3.181770086288452,\n",
              "  2.9407339096069336,\n",
              "  2.7428479194641113,\n",
              "  2.392052412033081,\n",
              "  2.5441091060638428,\n",
              "  3.825430154800415,\n",
              "  1.66019868850708,\n",
              "  1.5073928833007812,\n",
              "  1.5768839120864868,\n",
              "  1.384687066078186,\n",
              "  1.3591948747634888,\n",
              "  1.1560717821121216,\n",
              "  1.3256183862686157,\n",
              "  1.530468225479126,\n",
              "  1.0094261169433594,\n",
              "  4.610566139221191,\n",
              "  1.0572854280471802,\n",
              "  1.1106771230697632,\n",
              "  1.1962368488311768,\n",
              "  1.045891284942627,\n",
              "  2.1504714488983154,\n",
              "  1.0984864234924316,\n",
              "  1.1223406791687012,\n",
              "  2.059695243835449,\n",
              "  1.034501075744629,\n",
              "  1.2232121229171753,\n",
              "  1.1507463455200195,\n",
              "  1.106735348701477],\n",
              " 'val_accuracy': [0.0683760717511177,\n",
              "  0.10826210677623749,\n",
              "  0.202279195189476,\n",
              "  0.25925925374031067,\n",
              "  0.3105413019657135,\n",
              "  0.4188034236431122,\n",
              "  0.3960113823413849,\n",
              "  0.3304843306541443,\n",
              "  0.6153846383094788,\n",
              "  0.6353276371955872,\n",
              "  0.6723646521568298,\n",
              "  0.7549857497215271,\n",
              "  0.7663817405700684,\n",
              "  0.7435897588729858,\n",
              "  0.7777777910232544,\n",
              "  0.7492877244949341,\n",
              "  0.811965823173523,\n",
              "  0.5441595315933228,\n",
              "  0.8490028381347656,\n",
              "  0.8518518805503845,\n",
              "  0.8376068472862244,\n",
              "  0.9088318943977356,\n",
              "  0.7663817405700684,\n",
              "  0.9031339287757874,\n",
              "  0.8917378783226013,\n",
              "  0.8148148059844971,\n",
              "  0.9002848863601685,\n",
              "  0.934472918510437,\n",
              "  0.9259259104728699,\n",
              "  0.934472918510437]}"
            ]
          },
          "metadata": {},
          "execution_count": 15
        }
      ]
    },
    {
      "cell_type": "code",
      "source": [
        "# Recording history in json\n",
        "import json\n",
        "with open('training_hist.json','w') as f:\n",
        "  json.dump(training_history.history,f)"
      ],
      "metadata": {
        "id": "gX7-wsuj2D4h"
      },
      "execution_count": null,
      "outputs": []
    },
    {
      "cell_type": "code",
      "source": [
        "print(training_history.history.keys())"
      ],
      "metadata": {
        "colab": {
          "base_uri": "https://localhost:8080/"
        },
        "id": "mopbvLDr3AAq",
        "outputId": "521de9d5-b592-4e8a-bca8-a8a3c59b9d68"
      },
      "execution_count": null,
      "outputs": [
        {
          "output_type": "stream",
          "name": "stdout",
          "text": [
            "dict_keys(['loss', 'accuracy', 'val_loss', 'val_accuracy'])\n"
          ]
        }
      ]
    },
    {
      "cell_type": "markdown",
      "source": [
        "##Calculating Accuracy of Model Achieved on Validation Set"
      ],
      "metadata": {
        "id": "N6RiLP5n3Fbc"
      }
    },
    {
      "cell_type": "code",
      "source": [
        "# Final validation accuracy of trained model\n",
        "print(\"Validation set Accuracy: {} %\".format(training_history.history['val_accuracy'][-1]*100))"
      ],
      "metadata": {
        "colab": {
          "base_uri": "https://localhost:8080/"
        },
        "id": "prLrvfq53M6L",
        "outputId": "98ab31ac-d8e5-49ca-ef91-35a8b6d47b8e"
      },
      "execution_count": null,
      "outputs": [
        {
          "output_type": "stream",
          "name": "stdout",
          "text": [
            "Validation set Accuracy: 93.4472918510437 %\n"
          ]
        }
      ]
    },
    {
      "cell_type": "markdown",
      "source": [
        "#Accuracy Visualization"
      ],
      "metadata": {
        "id": "lzwgYkV1bVgV"
      }
    },
    {
      "cell_type": "markdown",
      "source": [
        "##Training Visualization"
      ],
      "metadata": {
        "id": "TcL-2Od5bctA"
      }
    },
    {
      "cell_type": "code",
      "source": [
        "epochs = [i for i in range(1,31)]\n",
        "plt.plot(epochs,training_history.history['accuracy'],color='red')\n",
        "plt.xlabel('Epochs')\n",
        "plt.ylabel('Training Accuracy')\n",
        "plt.title('Visualization of training accuracy result')\n",
        "plt.show()"
      ],
      "metadata": {
        "colab": {
          "base_uri": "https://localhost:8080/",
          "height": 472
        },
        "id": "zfRzNKhdbZcz",
        "outputId": "9d6ad659-c967-4676-a9b1-2f8dc5ce9d70"
      },
      "execution_count": null,
      "outputs": [
        {
          "output_type": "display_data",
          "data": {
            "text/plain": [
              "<Figure size 640x480 with 1 Axes>"
            ],
            "image/png": "[encoded data removed]"
          },
          "metadata": {}
        }
      ]
    },
    {
      "cell_type": "markdown",
      "source": [
        "##Validation Visualization"
      ],
      "metadata": {
        "id": "PzEgmEgEjxIl"
      }
    },
    {
      "cell_type": "code",
      "source": [
        "plt.plot(epochs,training_history.history['val_accuracy'],color='blue')\n",
        "plt.xlabel('Epochs')\n",
        "plt.ylabel('Validation Accuracy')\n",
        "plt.title('Visualization of Validation Accuracy Result')\n",
        "plt.show()"
      ],
      "metadata": {
        "colab": {
          "base_uri": "https://localhost:8080/",
          "height": 472
        },
        "id": "LyUGjSofbp3E",
        "outputId": "c99c9ecd-fdd1-48bd-caa4-b38e30423cfb"
      },
      "execution_count": null,
      "outputs": [
        {
          "output_type": "display_data",
          "data": {
            "text/plain": [
              "<Figure size 640x480 with 1 Axes>"
            ],
            "image/png": "[encoded data removed]"
          },
          "metadata": {}
        }
      ]
    },
    {
      "cell_type": "code",
      "source": [],
      "metadata": {
        "id": "ZQOUhQjDj9Ss"
      },
      "execution_count": null,
      "outputs": []
    }
  ]
}